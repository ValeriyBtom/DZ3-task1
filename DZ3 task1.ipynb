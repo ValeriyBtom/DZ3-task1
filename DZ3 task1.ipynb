{
 "cells": [
  {
   "cell_type": "code",
   "execution_count": 62,
   "id": "43caa857-2a86-440d-aad6-83d85d756dd1",
   "metadata": {},
   "outputs": [
    {
     "name": "stdin",
     "output_type": "stream",
     "text": [
      "Введите первое число:  6\n",
      "Введите второе число:  1\n"
     ]
    },
    {
     "name": "stdout",
     "output_type": "stream",
     "text": [
      "Сумма всех чисел: 21\n"
     ]
    }
   ],
   "source": [
    "from_1 = int(input(\"Введите первое число: \")) #Вводим числа с клавиатуры\n",
    "to = int(input(\"Введите второе число: \"))\n",
    "\n",
    "def sum_distance(from_1:int, to:int) ->int: #создаем функцию    \n",
    "    sum = 0 #вводим вспомогательную переменную\n",
    "    if from_1 > to: # условие: если первое введенной число больше второго\n",
    "        for i in range(to, from_1): # меняем числа местами и в цикле считаем сумму всех элементов\n",
    "            sum += i\n",
    "        result= sum + from_1 #считаем итоговый результат\n",
    "        \n",
    "    else: # условие если второе введенной числов больше первого\n",
    "        for i in range(from_1, to):  # в цикле считаем сумму всех элементов\n",
    "            sum += i            \n",
    "        result= sum + to #считаем итоговый результат\n",
    "    return result\n",
    "\n",
    "print(\"Сумма всех чисел:\", sum_distance(from_1, to)) # выводим на печать результат\n",
    "\n",
    "\n"
   ]
  },
  {
   "cell_type": "code",
   "execution_count": 48,
   "id": "9e45c7e3-231b-4191-8d71-8bde0153a4bb",
   "metadata": {},
   "outputs": [
    {
     "name": "stdin",
     "output_type": "stream",
     "text": [
      "Введите строку символов: qwer\n",
      "Введите число на которое нужно обрезать строку слева: 1\n",
      "Введите число повторений строки: 2\n"
     ]
    },
    {
     "data": {
      "text/plain": [
       "'werwer'"
      ]
     },
     "execution_count": 48,
     "metadata": {},
     "output_type": "execute_result"
    }
   ],
   "source": [
    "string=str(input(\"Введите строку символов:\")) #Вводим строку с клавиатуры\n",
    "\n",
    "offset_1=str(input(\"Введите число на которое нужно обрезать строку слева:\")) #Вводим число с клавиатуры\n",
    "if offset_1.isdigit(): #проверям если введенное в строке значение числовое\n",
    "    offset = int(offset_1) #изменяем его тип\n",
    "else:                       # иначе\n",
    "    offset = 0              # назначаем по default ноль\n",
    "    \n",
    "repetitions_1=str(input(\"Введите число повторений строки:\")) #Вводим число с клавиатуры\n",
    "\n",
    "if repetitions_1.isdigit(): #проверям если введенное в строке значение числовое\n",
    "    repetitions = int(repetitions_1) #изменяем его тип\n",
    "else:                               # иначе\n",
    "    repetitions = 1                 # назначаем по default ноль\n",
    "   \n",
    "def trim_and_repeat(string:str, offset:int, repetitions:int) -> str: # вводи функцию с тремя входными переменными\n",
    "    \n",
    "    result = string[offset:] * repetitions  # выполняем срез слева введенной строки и повторяем необходим.кол-во раз \n",
    "    return result \n",
    "\n",
    "trim_and_repeat(string, offset, repetitions) \n"
   ]
  }
 ],
 "metadata": {
  "kernelspec": {
   "display_name": "Python 3 (ipykernel)",
   "language": "python",
   "name": "python3"
  },
  "language_info": {
   "codemirror_mode": {
    "name": "ipython",
    "version": 3
   },
   "file_extension": ".py",
   "mimetype": "text/x-python",
   "name": "python",
   "nbconvert_exporter": "python",
   "pygments_lexer": "ipython3",
   "version": "3.12.7"
  }
 },
 "nbformat": 4,
 "nbformat_minor": 5
}

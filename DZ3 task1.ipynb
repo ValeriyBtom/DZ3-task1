{
 "cells": [
  {
   "cell_type": "code",
   "execution_count": 63,
   "id": "43caa857-2a86-440d-aad6-83d85d756dd1",
   "metadata": {},
   "outputs": [
    {
     "name": "stdin",
     "output_type": "stream",
     "text": [
      "Введите первое число:  1\n",
      "Введите второе число:  5\n"
     ]
    },
    {
     "name": "stdout",
     "output_type": "stream",
     "text": [
      "Сумма всех чисел: 15\n"
     ]
    }
   ],
   "source": [
    "from_1 = int(input(\"Введите первое число: \")) #Вводим числа с клавиатуры\n",
    "to = int(input(\"Введите второе число: \"))\n",
    "\n",
    "def sum_distance(from_1:int, to:int) ->int: #создаем функцию    \n",
    "    \n",
    "    sum = 0 #вводим вспомогательную переменную\n",
    "    if from_1 > to: # условие: если первое введенной число больше второго\n",
    "        for i in range(to, from_1): # меняем числа местами и в цикле считаем сумму всех элементов\n",
    "            sum += i\n",
    "        result= sum + from_1 #считаем итоговый результат\n",
    "        \n",
    "    else: # условие если второе введенной числов больше первого\n",
    "        for i in range(from_1, to):  # в цикле считаем сумму всех элементов\n",
    "            sum += i            \n",
    "        result= sum + to #считаем итоговый результат\n",
    "    return result\n",
    "#sum_distance(from_1, to)\n",
    "print(\"Сумма всех чисел:\", sum_distance(from_1, to)) # выводим на печать результат\n",
    "\n",
    "\n"
   ]
  }
 ],
 "metadata": {
  "kernelspec": {
   "display_name": "Python 3 (ipykernel)",
   "language": "python",
   "name": "python3"
  },
  "language_info": {
   "codemirror_mode": {
    "name": "ipython",
    "version": 3
   },
   "file_extension": ".py",
   "mimetype": "text/x-python",
   "name": "python",
   "nbconvert_exporter": "python",
   "pygments_lexer": "ipython3",
   "version": "3.12.7"
  }
 },
 "nbformat": 4,
 "nbformat_minor": 5
}

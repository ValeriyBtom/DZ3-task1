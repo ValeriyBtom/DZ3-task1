{
 "cells": [
  {
   "cell_type": "code",
   "execution_count": 1,
   "id": "e9f39cd4-d1d6-4ca0-92a1-1213d8c43f88",
   "metadata": {},
   "outputs": [
    {
     "name": "stdin",
     "output_type": "stream",
     "text": [
      "Введите строку символов: qwert\n",
      "Введите число на которое нужно обрезать строку слева: 2\n",
      "Введите число повторений строки: 2\n"
     ]
    },
    {
     "data": {
      "text/plain": [
       "'ertert'"
      ]
     },
     "execution_count": 1,
     "metadata": {},
     "output_type": "execute_result"
    }
   ],
   "source": [
    "string=str(input(\"Введите строку символов:\")) #Вводим строку с клавиатуры\n",
    "\n",
    "offset_1=str(input(\"Введите число на которое нужно обрезать строку слева:\")) #Вводим число с клавиатуры\n",
    "if offset_1.isdigit(): #проверям если введенное в строке значение числовое\n",
    "    offset = int(offset_1) #изменяем его тип\n",
    "else:                       # иначе\n",
    "    offset = 0              # назначаем по default ноль\n",
    "    \n",
    "repetitions_1=str(input(\"Введите число повторений строки:\")) #Вводим число с клавиатуры\n",
    "\n",
    "if repetitions_1.isdigit(): #проверям если введенное в строке значение числовое\n",
    "    repetitions = int(repetitions_1) #изменяем его тип\n",
    "else:                               # иначе\n",
    "    repetitions = 1                 # назначаем по default ноль\n",
    "   \n",
    "def trim_and_repeat(string:str, offset:int, repetitions:int) -> str: # вводи функцию с тремя входными переменными\n",
    "    \n",
    "    result = string[offset:] * repetitions  # выполняем срез слева введенной строки и повторяем необходим.кол-во раз \n",
    "    return result \n",
    "\n",
    "trim_and_repeat(string, offset, repetitions) \n"
   ]
  }
 ],
 "metadata": {
  "kernelspec": {
   "display_name": "Python 3 (ipykernel)",
   "language": "python",
   "name": "python3"
  },
  "language_info": {
   "codemirror_mode": {
    "name": "ipython",
    "version": 3
   },
   "file_extension": ".py",
   "mimetype": "text/x-python",
   "name": "python",
   "nbconvert_exporter": "python",
   "pygments_lexer": "ipython3",
   "version": "3.12.7"
  }
 },
 "nbformat": 4,
 "nbformat_minor": 5
}
